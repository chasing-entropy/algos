{
 "cells": [
  {
   "cell_type": "code",
   "execution_count": 1,
   "metadata": {
    "ExecuteTime": {
     "end_time": "2020-09-10T20:13:19.971242Z",
     "start_time": "2020-09-10T20:13:19.612513Z"
    }
   },
   "outputs": [],
   "source": [
    "import requests\n",
    "from os import path\n",
    "import csv\n",
    "import numpy as np\n",
    "import sys\n",
    "import os\n",
    "import codecs\n",
    "import re\n",
    "from IPython.display import Markdown\n",
    "sys.path.insert(0, os.path.abspath('../..'))\n",
    "from probability.distributions import FrequencyTable, DiscreteDistribution\n",
    "\n",
    "%matplotlib inline\n",
    "\n",
    "fname = 'data/Moby.Dick.txt'\n",
    "if not path.exists('data'):\n",
    "    os.mkdir('data')\n",
    "if not path.exists(fname):\n",
    "    url = 'http://www.gutenberg.org/files/2701/2701-0.txt'\n",
    "    r = requests.get(url, allow_redirects=True)    \n",
    "    file = codecs.open(fname, 'w', \"utf-8\")\n",
    "    file.write(r.content.decode('utf-8'))\n"
   ]
  },
  {
   "cell_type": "code",
   "execution_count": 2,
   "metadata": {
    "ExecuteTime": {
     "end_time": "2020-09-10T20:13:20.033079Z",
     "start_time": "2020-09-10T20:13:20.013017Z"
    }
   },
   "outputs": [],
   "source": [
    "# Load the text\n",
    "file = codecs.open(fname, 'r', 'utf-8')\n",
    "# Remove all '\\r' and '\\n'\n",
    "lines = [l.replace('\\r\\n','') for l in file.readlines()]\n",
    "file.close()"
   ]
  },
  {
   "cell_type": "code",
   "execution_count": 3,
   "metadata": {
    "ExecuteTime": {
     "end_time": "2020-09-10T20:13:20.241703Z",
     "start_time": "2020-09-10T20:13:20.218212Z"
    }
   },
   "outputs": [],
   "source": [
    "single_line = np.r_[lines]"
   ]
  },
  {
   "cell_type": "code",
   "execution_count": 4,
   "metadata": {
    "ExecuteTime": {
     "end_time": "2020-09-10T20:13:20.686079Z",
     "start_time": "2020-09-10T20:13:20.400990Z"
    }
   },
   "outputs": [],
   "source": [
    "def replace_char(line):    \n",
    "    # convert more-than-one spaces to one\n",
    "    line = re.sub(\" +\", \" \" , line) \n",
    "    # remove punctuations\n",
    "    line = re.sub(\"[,;:’\\*\\#\\[\\]()!?“”_/\\-]\", \"\" , line) \n",
    "    # replace . by STOP_WORD    \n",
    "    line = line.replace(\".\", \" STOP_WORD \")    \n",
    "    return line\n",
    "#np.flatiter()\n",
    "words = [w for line in [replace_char(line).split(\" \") for line in single_line if len(line) > 0] \n",
    "           for w in line if len(w) > 0]\n",
    "dist = FrequencyTable(words)"
   ]
  },
  {
   "cell_type": "code",
   "execution_count": 5,
   "metadata": {
    "ExecuteTime": {
     "end_time": "2020-09-10T20:13:20.695576Z",
     "start_time": "2020-09-10T20:13:20.687774Z"
    }
   },
   "outputs": [
    {
     "data": {
      "text/markdown": [
       "|X1       |frequency|\n",
       "|---------|---------|\n",
       "|      the|13873.0  |\n",
       "|STOP_WORD|8188.0   |\n",
       "|       of|6670.0   |\n",
       "|      and|6078.0   |\n",
       "|       to|4589.0   |\n",
       "|        a|4556.0   |\n",
       "|       in|3972.0   |\n",
       "|     that|2886.0   |\n",
       "|      his|2464.0   |\n",
       "|       it|2104.0   |\n",
       "|**total**|55380.0    |"
      ],
      "text/plain": [
       "<IPython.core.display.Markdown object>"
      ]
     },
     "execution_count": 5,
     "metadata": {},
     "output_type": "execute_result"
    }
   ],
   "source": [
    "r = {k:v for k, v in dist.most_common(10)}\n",
    "Markdown(FrequencyTable(r).to_table(normalised=False,sort=True))"
   ]
  },
  {
   "cell_type": "code",
   "execution_count": 6,
   "metadata": {
    "ExecuteTime": {
     "end_time": "2020-09-10T20:13:21.044829Z",
     "start_time": "2020-09-10T20:13:20.766371Z"
    }
   },
   "outputs": [],
   "source": [
    "from itertools import tee\n",
    "\n",
    "def to_tuple(iterable, n=2):\n",
    "    \"s -> (s0,s1), (s1,s2), (s2, s3), ...\"\n",
    "    iterables = tee(iterable, n)\n",
    "    for i in range(n):\n",
    "        for j in range(i,n):\n",
    "            next(iterables[j], None)\n",
    "        \n",
    "    return zip(*tuple(iterables))\n",
    "\n",
    "two_words = to_tuple(words)\n",
    "dist2 = DiscreteDistribution([w2 for w2 in two_words if w2[0] != \"STOP_WORD\"])"
   ]
  },
  {
   "cell_type": "code",
   "execution_count": 7,
   "metadata": {
    "ExecuteTime": {
     "end_time": "2020-09-10T20:13:21.064376Z",
     "start_time": "2020-09-10T20:13:21.046523Z"
    }
   },
   "outputs": [
    {
     "data": {
      "text/markdown": [
       "|X1       |X2       |title\n",
       "|---------|---------|---------\n",
       "|       of|      the|1896.0   |\n",
       "|       in|      the|1139.0   |\n",
       "|       to|      the|733.0    |\n",
       "|     from|      the|437.0    |\n",
       "|       of|      his|371.0    |\n",
       "|      and|      the|365.0    |\n",
       "|       of|        a|337.0    |\n",
       "|       on|      the|336.0    |\n",
       "|     with|      the|325.0    |\n",
       "|       to|       be|320.0    |\n"
      ],
      "text/plain": [
       "<IPython.core.display.Markdown object>"
      ]
     },
     "execution_count": 7,
     "metadata": {},
     "output_type": "execute_result"
    }
   ],
   "source": [
    "r = {k:v for k, v in dist2.most_common(10)}\n",
    "Markdown(DiscreteDistribution(r).to_table(normalised=False,sort=True))"
   ]
  },
  {
   "cell_type": "code",
   "execution_count": 8,
   "metadata": {
    "ExecuteTime": {
     "end_time": "2020-09-10T20:13:21.495265Z",
     "start_time": "2020-09-10T20:13:21.123920Z"
    }
   },
   "outputs": [],
   "source": [
    "three_words = to_tuple(words, 3)\n",
    "dist3 = DiscreteDistribution([w3 for w3 in three_words if w3[0] != \"STOP_WORD\" and w3[1] != \"STOP_WORD\"])"
   ]
  },
  {
   "cell_type": "code",
   "execution_count": 9,
   "metadata": {
    "ExecuteTime": {
     "end_time": "2020-09-10T20:13:21.520049Z",
     "start_time": "2020-09-10T20:13:21.497202Z"
    },
    "scrolled": false
   },
   "outputs": [
    {
     "data": {
      "text/markdown": [
       "|X1       |X2       |X3       |title\n",
       "|---------|---------|---------|---------\n",
       "|       of|      the|    whale|73.0     |\n",
       "|      the|    Sperm|    Whale|62.0     |\n",
       "|      one|       of|      the|61.0     |\n",
       "|       of|      the|      sea|57.0     |\n",
       "|      the|    White|    Whale|53.0     |\n",
       "|     part|       of|      the|53.0     |\n",
       "|      out|       of|      the|53.0     |\n",
       "|        a|     sort|       of|49.0     |\n",
       "|      the|      sea|STOP_WORD|45.0     |\n",
       "|      the|    whale|STOP_WORD|31.0     |\n",
       "|       of|      the|    Sperm|31.0     |\n",
       "|       in|      the|      sea|31.0     |\n",
       "|       of|      the|     boat|29.0     |\n",
       "|       to|      the|     deck|27.0     |\n",
       "|       of|      the|     ship|27.0     |\n",
       "|      for|        a|   moment|26.0     |\n",
       "|       of|      the|   whales|26.0     |\n",
       "|       by|       no|    means|25.0     |\n",
       "|      for|      the|     time|25.0     |\n",
       "|       in|    order|       to|24.0     |\n"
      ],
      "text/plain": [
       "<IPython.core.display.Markdown object>"
      ]
     },
     "execution_count": 9,
     "metadata": {},
     "output_type": "execute_result"
    }
   ],
   "source": [
    "r = {k:v for k, v in dist3.most_common(20)}\n",
    "Markdown(DiscreteDistribution(r).to_table(normalised=False,sort=True))"
   ]
  },
  {
   "cell_type": "code",
   "execution_count": 10,
   "metadata": {
    "ExecuteTime": {
     "end_time": "2020-09-10T20:13:24.398642Z",
     "start_time": "2020-09-10T20:13:21.521847Z"
    }
   },
   "outputs": [],
   "source": [
    "cond = dist3.condition_on([\"X1\"])"
   ]
  },
  {
   "cell_type": "code",
   "execution_count": 11,
   "metadata": {
    "ExecuteTime": {
     "end_time": "2020-09-10T20:13:24.404510Z",
     "start_time": "2020-09-10T20:13:24.400869Z"
    }
   },
   "outputs": [],
   "source": [
    "dist4 = cond[\"sea\"]"
   ]
  },
  {
   "cell_type": "code",
   "execution_count": 12,
   "metadata": {
    "ExecuteTime": {
     "end_time": "2020-09-10T20:13:24.417751Z",
     "start_time": "2020-09-10T20:13:24.406978Z"
    }
   },
   "outputs": [
    {
     "name": "stdout",
     "output_type": "stream",
     "text": [
      "Bonapartes and \t\t0.00340\n",
      "Both were \t\t0.00340\n",
      "But I \t\t0.00340\n",
      "But hardly \t\t0.00340\n",
      "But suddenly \t\t0.00340\n",
      "Gods voice \t\t0.00340\n",
      "I go \t\t0.00340\n",
      "I once \t\t0.00340\n",
      "I protested \t\t0.00340\n",
      "Look see \t\t0.00340\n"
     ]
    }
   ],
   "source": [
    "for word2, word3 in list(dist4)[:10]:\n",
    "    print(word2, word3, \"\\t\\t%.5f\" % dist4.prob(X2=word2,X3=word3))"
   ]
  },
  {
   "cell_type": "code",
   "execution_count": 13,
   "metadata": {
    "ExecuteTime": {
     "end_time": "2020-09-10T20:13:24.629282Z",
     "start_time": "2020-09-10T20:13:24.419714Z"
    }
   },
   "outputs": [],
   "source": [
    "reduced_dist = dist3.reduce({\"X1\":\"sea\"})"
   ]
  },
  {
   "cell_type": "code",
   "execution_count": 14,
   "metadata": {
    "ExecuteTime": {
     "end_time": "2020-09-10T20:13:24.635554Z",
     "start_time": "2020-09-10T20:13:24.631594Z"
    }
   },
   "outputs": [
    {
     "data": {
      "text/markdown": [
       "|X1         |X2       |title\n",
       "|-----------|---------|-----------\n",
       "|        and|      the|0.15       |\n",
       "|         as|        a|0.125      |\n",
       "|         as|       if|0.075      |\n",
       "|         on|      the|0.05       |\n",
       "|         in|        a|0.05       |\n",
       "|       even|       as|0.05       |\n",
       "|disappeared|       in|0.05       |\n",
       "|         by|      the|0.05       |\n",
       "|         as|      the|0.05       |\n",
       "|        and|   though|0.05       |\n",
       "|        and|       in|0.05       |\n",
       "|        and|  finally|0.05       |\n",
       "|          I|     once|0.025      |\n",
       "|          I|       go|0.025      |\n",
       "|       Gods|    voice|0.025      |\n",
       "|        But| suddenly|0.025      |\n",
       "|        But|   hardly|0.025      |\n",
       "|        But|        I|0.025      |\n",
       "|       Both|     were|0.025      |\n",
       "| Bonapartes|      and|0.025      |\n"
      ],
      "text/plain": [
       "<IPython.core.display.Markdown object>"
      ]
     },
     "execution_count": 14,
     "metadata": {},
     "output_type": "execute_result"
    }
   ],
   "source": [
    "r = {k:v for k, v in reduced_dist.most_common(20)}\n",
    "Markdown(DiscreteDistribution(r).to_table(normalised=True,sort=True))"
   ]
  },
  {
   "cell_type": "code",
   "execution_count": 15,
   "metadata": {
    "ExecuteTime": {
     "end_time": "2020-09-10T20:13:25.174533Z",
     "start_time": "2020-09-10T20:13:24.636988Z"
    }
   },
   "outputs": [],
   "source": [
    "marginalised_dist = dist3.marginal([\"X2\", \"X3\"])"
   ]
  },
  {
   "cell_type": "code",
   "execution_count": 16,
   "metadata": {
    "ExecuteTime": {
     "end_time": "2020-09-10T20:13:25.188603Z",
     "start_time": "2020-09-10T20:13:25.176144Z"
    }
   },
   "outputs": [
    {
     "data": {
      "text/markdown": [
       "|X1       |frequency|\n",
       "|---------|---------|\n",
       "|  the|13873.0  |\n",
       "|   of|6663.0   |\n",
       "|   and|6078.0   |\n",
       "|   to|4572.0   |\n",
       "|   a|4556.0   |\n",
       "|   in|3961.0   |\n",
       "|   that|2861.0   |\n",
       "|   his|2453.0   |\n",
       "|   it|1911.0   |\n",
       "|   I|1906.0   |\n",
       "|   with|1703.0   |\n",
       "|   is|1700.0   |\n",
       "|   was|1620.0   |\n",
       "|   as|1609.0   |\n",
       "|   he|1534.0   |\n",
       "|   for|1420.0   |\n",
       "|   all|1400.0   |\n",
       "|   this|1281.0   |\n",
       "|   at|1238.0   |\n",
       "|   by|1156.0   |\n"
      ],
      "text/plain": [
       "<IPython.core.display.Markdown object>"
      ]
     },
     "execution_count": 16,
     "metadata": {},
     "output_type": "execute_result"
    }
   ],
   "source": [
    "r = {k:v for k, v in marginalised_dist.most_common(20)}\n",
    "Markdown(DiscreteDistribution(r).to_table(normalised=False,sort=True))"
   ]
  },
  {
   "cell_type": "code",
   "execution_count": null,
   "metadata": {},
   "outputs": [],
   "source": []
  }
 ],
 "metadata": {
  "kernelspec": {
   "display_name": "Python 3.8.5 64-bit ('.venv': venv)",
   "language": "python",
   "name": "python38564bitvenvvenvf985b63139314eaf8b76c943fc396f2f"
  },
  "language_info": {
   "codemirror_mode": {
    "name": "ipython",
    "version": 3
   },
   "file_extension": ".py",
   "mimetype": "text/x-python",
   "name": "python",
   "nbconvert_exporter": "python",
   "pygments_lexer": "ipython3",
   "version": "3.8.5"
  }
 },
 "nbformat": 4,
 "nbformat_minor": 4
}
