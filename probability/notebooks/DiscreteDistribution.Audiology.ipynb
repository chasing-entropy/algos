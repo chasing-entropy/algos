{
 "cells": [
  {
   "cell_type": "markdown",
   "metadata": {},
   "source": [
    "# Dataset\n",
    "\n",
    "## In this notebook, we show how to load a dataset directly and study its probabilistic properties. The dataset information is as follows: \n",
    "\n",
    "### [Audiology (Standardized) Data Set](https://archive.ics.uci.edu/ml/datasets/Audiology+%28Standardized%29)\n",
    "\n",
    "\n",
    "### Data Set Information:\n",
    "\n",
    "This database is a standardized version of the original audiology database (see audiology.* in this directory). The non-standard set of attributes have been converted to a standard set of attributes according to the rules that follow.\n",
    "\n",
    "* Each property that appears anywhere in the original .data or .test file has been represented as a separate attribute in this file.\n",
    "\n",
    "* A property such as age_gt_60 is represented as a boolean attribute with values f and t.\n",
    "\n",
    "* In most cases, a property of the form x(y) is represented as a discrete attribute x() whose possible values are the various y's; air() is an example. There are two exceptions:\n",
    "** when only one value of y appears anywhere, e.g. static(normal). In this case, x_y appears as a boolean attribute.\n",
    "** when one case can have two or more values of x, e.g. history(..). All possible values of history are treated as separate boolean attributes.\n",
    "\n",
    "* Since boolean attributes only appear as positive conditions, each boolean attribute is assumed to be false unless noted as true. The value of multi-value discrete attributes taken as unknown (\"?\") unless a value is specified.\n",
    "\n",
    "* The original case identifications, p1 to p200 in the .data file and t1 to t26 in the .test file, have been added as a unique identifier attribute.\n",
    "\n",
    "Note: in the original .data file, p165 has a repeated specification of o_ar_c(normal); p166 has repeated specification of speech(normal) and conflicting values air(moderate) and air(mild). No other problems with the original data were noted.\n",
    "\n"
   ]
  },
  {
   "cell_type": "markdown",
   "metadata": {},
   "source": [
    "### We download the dataset here"
   ]
  },
  {
   "cell_type": "code",
   "execution_count": 1,
   "metadata": {
    "ExecuteTime": {
     "end_time": "2020-09-06T20:46:49.054592Z",
     "start_time": "2020-09-06T20:46:48.772955Z"
    },
    "scrolled": true
   },
   "outputs": [],
   "source": [
    "import requests\n",
    "from os import path\n",
    "import csv\n",
    "import numpy as np\n",
    "import sys\n",
    "import os\n",
    "sys.path.insert(0, os.path.abspath('../..'))\n",
    "\n",
    "%matplotlib inline\n",
    "\n",
    "fname = 'data/audiology.standardized.data'\n",
    "if not path.exists('data'):\n",
    "    os.mkdir('data')\n",
    "if not path.exists(fname):\n",
    "    url = 'https://archive.ics.uci.edu/ml/machine-learning-databases/audiology/audiology.standardized.data'\n",
    "    r = requests.get(url, allow_redirects=True)\n",
    "    open(fname, 'wb').write(r.content)\n"
   ]
  },
  {
   "cell_type": "markdown",
   "metadata": {},
   "source": [
    "### The dataset can be directly loaded by calling 'genfromtxt' method. All the arguments are the same as [numpy version](https://numpy.org/doc/stable/reference/generated/numpy.genfromtxt.html)\n",
    "\n",
    "### Here we select the first six columns of the dataset. It just need the indices of the columns.  Column names are optional. In case that is not provided in loading time, Discrete Distribution class calls the random variables as X1, X2, etc.\n",
    "\n",
    "### Note that we use 'converters' to deal with missing values (for more information, refer to [numpy](https://numpy.org/doc/stable/reference/generated/numpy.genfromtxt.html) documentation)."
   ]
  },
  {
   "cell_type": "code",
   "execution_count": 2,
   "metadata": {
    "ExecuteTime": {
     "end_time": "2020-09-06T20:44:06.149383Z",
     "start_time": "2020-09-06T20:44:06.092076Z"
    }
   },
   "outputs": [],
   "source": [
    "from probability.distributions import DiscreteDistribution\n",
    "\n",
    "# The column names and their indices in csv file that we will load\n",
    "indices_1 = [0, 1, 2, 3, 4, 5]\n",
    "names_1 = [\"age_gt_60\", \"air\", \"airBoneGap\", \"ar_c\", \"ar_u\", \"bone\"]\n",
    "# Convertor for truning missing values (?) to 'N/A'\n",
    "# Note: the data file loads as byte, so we use b'?' and to make sure\n",
    "#       everything convert to unicode, we call x.decode(\"utf-8\")\n",
    "converters = {i: (lambda x: u'N/A' if(x == b'?') else x.decode(\"utf-8\") ) for i in indices_1}\n",
    "# Load the distribution by genfromtxt\n",
    "# to see the compelete list of extra argument: \n",
    "# https://numpy.org/doc/stable/reference/generated/numpy.genfromtxt.html\n",
    "dist = DiscreteDistribution.genfromtxt(fname, \n",
    "                                       dtypes=\"U\",\n",
    "                                       names=names_1,\n",
    "                                       usecols=indices_1,\n",
    "                                       delimiter=',',\n",
    "                                       converters=converters)"
   ]
  },
  {
   "cell_type": "markdown",
   "metadata": {},
   "source": [
    "### Printing the distribution provides the total number of loaded records, the details of random variables and their levels."
   ]
  },
  {
   "cell_type": "code",
   "execution_count": 3,
   "metadata": {
    "ExecuteTime": {
     "end_time": "2020-09-06T20:44:07.296138Z",
     "start_time": "2020-09-06T20:44:07.282860Z"
    }
   },
   "outputs": [
    {
     "name": "stdout",
     "output_type": "stream",
     "text": [
      "Discrete distribution \n",
      "random variables:'['age_gt_60' 'air' 'airBoneGap' 'ar_c' 'ar_u' 'bone']'\n",
      "levels: 'age_gt_60': {'f', 't'}\n",
      "'air': {'severe', 'moderate', 'profound', 'mild', 'normal'}\n",
      "'airBoneGap': {'f', 't'}\n",
      "'ar_c': {'normal', 'absent', 'elevated', 'N/A'}\n",
      "'ar_u': {'normal', 'absent', 'elevated', 'N/A'}\n",
      "'bone': {'unmeasured', 'moderate', 'N/A', 'mild', 'normal'}\n",
      "\n",
      "total:200\n",
      "normalised:False\n",
      "\n"
     ]
    }
   ],
   "source": [
    "print(dist.summary())"
   ]
  },
  {
   "cell_type": "markdown",
   "metadata": {},
   "source": [
    "### Or printing the table as a markdown"
   ]
  },
  {
   "cell_type": "code",
   "execution_count": 4,
   "metadata": {
    "ExecuteTime": {
     "end_time": "2020-09-06T20:44:08.600609Z",
     "start_time": "2020-09-06T20:44:08.586140Z"
    }
   },
   "outputs": [
    {
     "data": {
      "text/markdown": [
       "|age_gt_60|air      |airBoneGap|ar_c     |ar_u     |bone      |title\n",
       "|---------|---------|----------|---------|---------|----------|-----------|\n",
       "|        f|     mild|         f|   absent|   absent|      mild|0.02       |\n",
       "|        f|     mild|         f|   absent|   absent|    normal|0.01       |\n",
       "|        f|     mild|         f|   absent| elevated|      mild|0.005      |\n",
       "|        f|     mild|         f|   absent|   normal|       N/A|0.005      |\n",
       "|        f|     mild|         f|   absent|   normal|      mild|0.005      |\n",
       "|        f|     mild|         f| elevated| elevated|       N/A|0.005      |\n",
       "|        f|     mild|         f| elevated| elevated|      mild|0.01       |\n",
       "|        f|     mild|         f| elevated|   normal|       N/A|0.005      |\n",
       "|        f|     mild|         f| elevated|   normal|      mild|0.03       |\n",
       "|        f|     mild|         f| elevated|   normal|unmeasured|0.01       |\n",
       "|        f|     mild|         f|   normal| elevated|      mild|0.005      |\n",
       "|        f|     mild|         f|   normal| elevated|unmeasured|0.005      |\n",
       "|        f|     mild|         f|   normal|   normal|       N/A|0.055      |\n",
       "|        f|     mild|         f|   normal|   normal|      mild|0.035      |\n",
       "|        f|     mild|         f|   normal|   normal|unmeasured|0.005      |\n",
       "|        f|     mild|         t|   absent|   absent|       N/A|0.005      |\n",
       "|        f|     mild|         t|   absent|   absent|      mild|0.01       |\n",
       "|        f|     mild|         t|   absent|   absent|    normal|0.015      |\n",
       "|        f|     mild|         t|   absent| elevated|    normal|0.005      |\n",
       "|        f| moderate|         f|   absent|   absent|  moderate|0.005      |\n",
       "|        f| moderate|         f| elevated| elevated|       N/A|0.005      |\n",
       "|        f| moderate|         f|   normal|   normal|       N/A|0.005      |\n",
       "|        f| moderate|         t|   absent|   absent|      mild|0.025      |\n",
       "|        f| moderate|         t|   absent|   absent|    normal|0.01       |\n",
       "|        f|   normal|         f|   absent|   absent|    normal|0.005      |\n",
       "|        f|   normal|         f|   absent| elevated|       N/A|0.005      |\n",
       "|        f|   normal|         f|   absent| elevated|    normal|0.02       |\n",
       "|        f|   normal|         f|   absent|   normal|    normal|0.02       |\n",
       "|        f|   normal|         f| elevated|   absent|       N/A|0.005      |\n",
       "|        f|   normal|         f| elevated| elevated|       N/A|0.005      |\n",
       "|        f|   normal|         f| elevated| elevated|    normal|0.01       |\n",
       "|        f|   normal|         f| elevated|   normal|       N/A|0.015      |\n",
       "|        f|   normal|         f| elevated|   normal|      mild|0.005      |\n",
       "|        f|   normal|         f|   normal| elevated|       N/A|0.03       |\n",
       "|        f|   normal|         f|   normal| elevated|    normal|0.01       |\n",
       "|        f|   normal|         f|   normal| elevated|unmeasured|0.005      |\n",
       "|        f|   normal|         f|   normal|   normal|       N/A|0.065      |\n",
       "|        f|   normal|         f|   normal|   normal|    normal|0.03       |\n",
       "|        f|   normal|         f|   normal|   normal|unmeasured|0.055      |\n",
       "|        f| profound|         f|      N/A|      N/A|       N/A|0.005      |\n",
       "|        f|   severe|         f|      N/A|      N/A|       N/A|0.005      |\n",
       "|        f|   severe|         f|   normal|   normal|  moderate|0.005      |\n",
       "|        f|   severe|         t|   absent|   absent|      mild|0.01       |\n",
       "|        f|   severe|         t|   absent|   absent|    normal|0.015      |\n",
       "|        t|     mild|         f|   absent|      N/A|       N/A|0.005      |\n",
       "|        t|     mild|         f|   absent|   absent|      mild|0.015      |\n",
       "|        t|     mild|         f|   absent| elevated|      mild|0.005      |\n",
       "|        t|     mild|         f|   absent|   normal|      mild|0.01       |\n",
       "|        t|     mild|         f| elevated|   absent|      mild|0.005      |\n",
       "|        t|     mild|         f| elevated| elevated|       N/A|0.005      |\n",
       "|        t|     mild|         f|   normal|   absent|      mild|0.015      |\n",
       "|        t|     mild|         f|   normal| elevated|       N/A|0.005      |\n",
       "|        t|     mild|         f|   normal| elevated|      mild|0.015      |\n",
       "|        t|     mild|         f|   normal| elevated|unmeasured|0.01       |\n",
       "|        t|     mild|         f|   normal|   normal|       N/A|0.09       |\n",
       "|        t|     mild|         f|   normal|   normal|      mild|0.03       |\n",
       "|        t|     mild|         f|   normal|   normal|unmeasured|0.04       |\n",
       "|        t|     mild|         t|      N/A|   absent|      mild|0.01       |\n",
       "|        t| moderate|         f| elevated|   normal|unmeasured|0.005      |\n",
       "|        t| moderate|         f|   normal| elevated|       N/A|0.005      |\n",
       "|        t| moderate|         f|   normal|   normal|       N/A|0.01       |\n",
       "|        t| moderate|         f|   normal|   normal|  moderate|0.005      |\n",
       "|        t| moderate|         t| elevated|   absent|      mild|0.005      |\n",
       "|        t| moderate|         t|   normal|   absent|      mild|0.005      |\n",
       "|        t|   normal|         f|   absent|   absent|    normal|0.015      |\n",
       "|        t|   normal|         f|   absent|   normal|    normal|0.005      |\n",
       "|        t|   normal|         f| elevated|   normal|       N/A|0.015      |\n",
       "|        t|   normal|         f| elevated|   normal|    normal|0.005      |\n",
       "|        t|   normal|         f|   normal| elevated|    normal|0.005      |\n",
       "|        t|   normal|         f|   normal|   normal|       N/A|0.015      |\n",
       "|        t|   normal|         f|   normal|   normal|    normal|0.005      |\n",
       "|        t|   normal|         f|   normal|   normal|unmeasured|0.015      |\n",
       "|        t|   severe|         f|   normal|   normal|       N/A|0.005      |\n"
      ],
      "text/plain": [
       "<IPython.core.display.Markdown object>"
      ]
     },
     "execution_count": 4,
     "metadata": {},
     "output_type": "execute_result"
    }
   ],
   "source": [
    "from IPython.display import Markdown\n",
    "\n",
    "Markdown(dist.to_table(normalised=True))"
   ]
  },
  {
   "cell_type": "markdown",
   "metadata": {},
   "source": [
    "### We can directly access the random variables details from 'rvs' variable or random variable names."
   ]
  },
  {
   "cell_type": "code",
   "execution_count": 5,
   "metadata": {
    "ExecuteTime": {
     "end_time": "2020-09-06T20:44:09.851012Z",
     "start_time": "2020-09-06T20:44:09.839514Z"
    },
    "tags": []
   },
   "outputs": [
    {
     "name": "stdout",
     "output_type": "stream",
     "text": [
      "Random variables: ['age_gt_60' 'air' 'airBoneGap' 'ar_c' 'ar_u' 'bone']\n",
      "\n",
      "Details: \n",
      "'age_gt_60': {'f', 't'}\n",
      "'air': {'severe', 'moderate', 'profound', 'mild', 'normal'}\n",
      "'airBoneGap': {'f', 't'}\n",
      "'ar_c': {'normal', 'absent', 'elevated', 'N/A'}\n",
      "'ar_u': {'normal', 'absent', 'elevated', 'N/A'}\n",
      "'bone': {'unmeasured', 'moderate', 'N/A', 'mild', 'normal'}\n",
      "\n"
     ]
    }
   ],
   "source": [
    "print(f\"Random variables: {dist.names}\")\n",
    "print(f\"\\nDetails: \\n{dist.rvs}\")"
   ]
  },
  {
   "cell_type": "markdown",
   "metadata": {},
   "source": [
    "### Also, we can access the value of the random variables (as tuple) and its frequency by looping over the distribution itself. "
   ]
  },
  {
   "cell_type": "code",
   "execution_count": 6,
   "metadata": {
    "ExecuteTime": {
     "end_time": "2020-09-06T20:44:11.133852Z",
     "start_time": "2020-09-06T20:44:11.126752Z"
    },
    "tags": []
   },
   "outputs": [
    {
     "name": "stdout",
     "output_type": "stream",
     "text": [
      "(('f', 'mild', 'f', 'normal', 'normal', 'N/A'), 11)\n",
      "(('f', 'moderate', 'f', 'normal', 'normal', 'N/A'), 1)\n",
      "(('t', 'mild', 't', 'N/A', 'absent', 'mild'), 2)\n"
     ]
    }
   ],
   "source": [
    "# print the first three values\n",
    "for t in dist[:3]:\n",
    "    print(t)"
   ]
  },
  {
   "cell_type": "markdown",
   "metadata": {},
   "source": [
    "### To get the frequency, we need to use the value of the random variable. Calling the frequency method or using the indexer of the distribution return the frequency."
   ]
  },
  {
   "cell_type": "code",
   "execution_count": 7,
   "metadata": {
    "ExecuteTime": {
     "end_time": "2020-09-06T20:44:12.181861Z",
     "start_time": "2020-09-06T20:44:12.166533Z"
    }
   },
   "outputs": [
    {
     "name": "stdout",
     "output_type": "stream",
     "text": [
      "Frequency:  2\n",
      "Frequency:  2\n"
     ]
    }
   ],
   "source": [
    "rv_value = ('t', 'mild', 't', 'N/A', 'absent', 'mild')\n",
    "# By calling the frequency method\n",
    "print(\"Frequency: \", dist.frequency(rv_value))\n",
    "# By indexre\n",
    "print(\"Frequency: \", dist[rv_value])"
   ]
  },
  {
   "cell_type": "markdown",
   "metadata": {
    "ExecuteTime": {
     "end_time": "2020-09-04T10:11:15.361136Z",
     "start_time": "2020-09-04T10:11:15.345788Z"
    }
   },
   "source": [
    "### Or get probability instead of frequency"
   ]
  },
  {
   "cell_type": "code",
   "execution_count": 8,
   "metadata": {
    "ExecuteTime": {
     "end_time": "2020-09-06T20:44:13.299026Z",
     "start_time": "2020-09-06T20:44:13.290629Z"
    }
   },
   "outputs": [
    {
     "name": "stdout",
     "output_type": "stream",
     "text": [
      "Probability:  0.01\n",
      "Probability:  0.01\n"
     ]
    }
   ],
   "source": [
    "rv_value = ('t', 'mild', 't', 'N/A', 'absent', 'mild')\n",
    "# By calling the frequency method\n",
    "print(\"Probability: \", dist.frequency(rv_value, normalised=True))\n",
    "# By calling the frequency method\n",
    "print(\"Probability: \", dist.probability(rv_value))"
   ]
  },
  {
   "cell_type": "markdown",
   "metadata": {
    "ExecuteTime": {
     "end_time": "2020-09-04T10:07:40.031388Z",
     "start_time": "2020-09-04T10:07:40.009923Z"
    }
   },
   "source": [
    "### Both \"FrequencyTable\" and \"DiscreteDistribution\" classes return zero frequency/probability when the value of random variable is not observed.\n",
    "### We can also check occurrence of random variable value too"
   ]
  },
  {
   "cell_type": "code",
   "execution_count": 9,
   "metadata": {
    "ExecuteTime": {
     "end_time": "2020-09-06T20:44:14.824043Z",
     "start_time": "2020-09-06T20:44:14.802255Z"
    }
   },
   "outputs": [
    {
     "name": "stdout",
     "output_type": "stream",
     "text": [
      "Is it obsrved: False\n",
      "Frequency:  0\n",
      "Frequency:  0\n",
      "probability:  0.0\n",
      "probability:  0.0\n"
     ]
    }
   ],
   "source": [
    "not_observed_value = ('t', 'mild', 'f', 'N/A', 'absent', 'mild')\n",
    "\n",
    "print(\"Is it obsrved:\", not_observed_value in dist)\n",
    "print(\"Frequency: \", dist[not_observed_value])\n",
    "print(\"Frequency: \", dist.frequency(not_observed_value))\n",
    "print(\"probability: \", dist.frequency(not_observed_value, normalised=True))\n",
    "print(\"probability: \", dist.probability(not_observed_value))"
   ]
  },
  {
   "cell_type": "markdown",
   "metadata": {
    "ExecuteTime": {
     "end_time": "2020-09-03T23:40:04.499789Z",
     "start_time": "2020-09-03T23:40:04.486528Z"
    }
   },
   "source": [
    "# How to marginalise\n",
    "\n",
    "### Calling marginal method returns another DiscreteDistribution object that is marginalised over the requested random variables."
   ]
  },
  {
   "cell_type": "code",
   "execution_count": 10,
   "metadata": {
    "ExecuteTime": {
     "end_time": "2020-09-06T20:44:16.666286Z",
     "start_time": "2020-09-06T20:44:16.652649Z"
    }
   },
   "outputs": [
    {
     "name": "stdout",
     "output_type": "stream",
     "text": [
      "Discrete distribution \n",
      "random variables:'['air']'\n",
      "levels: 'air': {'severe', 'profound', 'moderate', 'mild', 'normal'}\n",
      "\n",
      "total:200\n",
      "normalised:False\n",
      "\n",
      "The frequencies:\n",
      "('mild', 101)\n",
      "('moderate', 17)\n",
      "('severe', 8)\n",
      "('normal', 73)\n",
      "('profound', 1)\n"
     ]
    }
   ],
   "source": [
    "marginal_dist_1 = dist.marginal([\"age_gt_60\", \"airBoneGap\", \"ar_c\", \"ar_u\", \"bone\"])\n",
    "print(marginal_dist_1.summary())\n",
    "print(\"The frequencies:\")\n",
    "for item in marginal_dist_1.items():\n",
    "    print(item)"
   ]
  },
  {
   "cell_type": "markdown",
   "metadata": {
    "ExecuteTime": {
     "end_time": "2020-09-03T23:40:09.103273Z",
     "start_time": "2020-09-03T23:40:09.090765Z"
    }
   },
   "source": [
    "### Plotting the distribution"
   ]
  },
  {
   "cell_type": "code",
   "execution_count": 11,
   "metadata": {
    "ExecuteTime": {
     "end_time": "2020-09-06T20:44:21.268380Z",
     "start_time": "2020-09-06T20:44:21.073167Z"
    }
   },
   "outputs": [
    {
     "data": {
      "image/png": "[encoded data removed]",
      "text/plain": [
       "<Figure size 432x288 with 1 Axes>"
      ]
     },
     "metadata": {
      "needs_background": "light"
     },
     "output_type": "display_data"
    }
   ],
   "source": [
    "import matplotlib.pyplot as plt\n",
    "\n",
    "plt.bar([ level for level in marginal_dist_1], \n",
    "        [marginal_dist_1.probability(level) for level in marginal_dist_1])\n",
    "plt.grid()\n",
    "plt.show()"
   ]
  },
  {
   "cell_type": "markdown",
   "metadata": {},
   "source": [
    "### Or "
   ]
  },
  {
   "cell_type": "code",
   "execution_count": 12,
   "metadata": {
    "ExecuteTime": {
     "end_time": "2020-09-06T20:44:24.557145Z",
     "start_time": "2020-09-06T20:44:24.541119Z"
    }
   },
   "outputs": [
    {
     "name": "stdout",
     "output_type": "stream",
     "text": [
      "Discrete distribution \n",
      "random variables:'['air' 'bone']'\n",
      "levels: 'air': {'severe', 'moderate', 'profound', 'mild', 'normal'}\n",
      "'bone': {'unmeasured', 'moderate', 'N/A', 'mild', 'normal'}\n",
      "\n",
      "total:200\n",
      "normalised:False\n",
      "\n",
      "The frequencies:\n",
      "(('mild', 'N/A'), 36)\n",
      "(('moderate', 'N/A'), 5)\n",
      "(('mild', 'mild'), 45)\n",
      "(('severe', 'N/A'), 2)\n",
      "(('severe', 'moderate'), 1)\n",
      "(('normal', 'mild'), 1)\n",
      "(('normal', 'N/A'), 31)\n",
      "(('normal', 'normal'), 26)\n",
      "(('moderate', 'mild'), 7)\n",
      "(('severe', 'mild'), 2)\n",
      "(('moderate', 'moderate'), 2)\n",
      "(('mild', 'normal'), 6)\n",
      "(('moderate', 'normal'), 2)\n",
      "(('moderate', 'unmeasured'), 1)\n",
      "(('normal', 'unmeasured'), 15)\n",
      "(('mild', 'unmeasured'), 14)\n",
      "(('profound', 'N/A'), 1)\n",
      "(('severe', 'normal'), 3)\n"
     ]
    }
   ],
   "source": [
    "marginal_dist_2 = dist.marginal([\"age_gt_60\", \"airBoneGap\", \"ar_c\", \"ar_u\"])\n",
    "print(marginal_dist_2.summary())\n",
    "print(\"The frequencies:\")\n",
    "for item in marginal_dist_2.items():\n",
    "    print(item)"
   ]
  },
  {
   "cell_type": "code",
   "execution_count": 12,
   "metadata": {
    "ExecuteTime": {
     "end_time": "2020-09-04T12:53:48.411424Z",
     "start_time": "2020-09-04T12:53:48.183412Z"
    },
    "scrolled": false
   },
   "outputs": [
    {
     "data": {
      "image/png": "[encoded data removed]",
      "text/plain": [
       "<Figure size 576x432 with 1 Axes>"
      ]
     },
     "metadata": {
      "needs_background": "light"
     },
     "output_type": "display_data"
    }
   ],
   "source": [
    "from mpl_toolkits.mplot3d import Axes3D\n",
    "\n",
    "# setup the figure and axes\n",
    "fig = plt.figure(figsize=(8, 6))\n",
    "ax1 = fig.add_subplot(111, projection='3d')\n",
    "\n",
    "level1 = list(marginal_dist_2.rvs[0].levels)\n",
    "level2 = list(marginal_dist_2.rvs[1].levels)\n",
    "top = np.zeros((len(level1)*len(level2)))\n",
    "for i, l1 in enumerate(level1):\n",
    "    for j, l2 in enumerate(level2):\n",
    "        top[i*len(level1) + j] = marginal_dist_2.probability((l1, l2))\n",
    "\n",
    "        \n",
    "_l1_nums, _l2_nums = np.meshgrid(np.arange(len(level1)), np.arange(len(level2)))\n",
    "x, y = _l1_nums.ravel(), _l2_nums.ravel()\n",
    "\n",
    "\n",
    "\n",
    "        \n",
    "\n",
    "bottom = np.zeros_like(top)\n",
    "width = depth = .7\n",
    "ax1.bar3d(x, y+.5, bottom, width, depth, top, shade=True)\n",
    "\n",
    "ax1.set_xticklabels(level1, rotation=5)\n",
    "ax1.set_xticks(x+.3) \n",
    "ax1.set_xlabel(marginal_dist_2.rvs[0].name, fontsize='xx-large', rotation=-25, color = 'r', alpha=.5)\n",
    "\n",
    "\n",
    "ax1.set_yticklabels(level2)\n",
    "ax1.set_ylabel(marginal_dist_2.rvs[1].name, fontsize='xx-large', rotation=45, color = 'r', alpha=.5)\n",
    "#ax1.set_yticks(y+.5)\n",
    "\n",
    "ax1.set_title('Joint Probability Distribution')\n",
    "\n",
    "\n",
    "\n",
    "\n",
    "plt.show()"
   ]
  },
  {
   "cell_type": "markdown",
   "metadata": {
    "ExecuteTime": {
     "end_time": "2020-09-04T11:24:31.889547Z",
     "start_time": "2020-09-04T11:24:31.884137Z"
    }
   },
   "source": [
    "# How to condition on random variables"
   ]
  },
  {
   "cell_type": "code",
   "execution_count": 13,
   "metadata": {
    "ExecuteTime": {
     "end_time": "2020-09-06T20:44:29.293056Z",
     "start_time": "2020-09-06T20:44:29.198312Z"
    }
   },
   "outputs": [
    {
     "ename": "NameError",
     "evalue": "name 'DiscreteConditionalDistribution' is not defined",
     "output_type": "error",
     "traceback": [
      "\u001b[0;31m---------------------------------------------------------------------------\u001b[0m",
      "\u001b[0;31mNameError\u001b[0m                                 Traceback (most recent call last)",
      "\u001b[0;32m<ipython-input-13-cf3c47067309>\u001b[0m in \u001b[0;36m<module>\u001b[0;34m\u001b[0m\n\u001b[0;32m----> 1\u001b[0;31m \u001b[0mdist_condiational\u001b[0m \u001b[0;34m=\u001b[0m \u001b[0mdist\u001b[0m\u001b[0;34m.\u001b[0m\u001b[0mcondition_on\u001b[0m\u001b[0;34m(\u001b[0m\u001b[0;34m[\u001b[0m\u001b[0;34m\"age_gt_60\"\u001b[0m\u001b[0;34m,\u001b[0m \u001b[0;34m\"airBoneGap\"\u001b[0m\u001b[0;34m,\u001b[0m \u001b[0;34m\"ar_c\"\u001b[0m\u001b[0;34m,\u001b[0m \u001b[0;34m\"ar_u\"\u001b[0m\u001b[0;34m,\u001b[0m \u001b[0;34m\"bone\"\u001b[0m\u001b[0;34m]\u001b[0m\u001b[0;34m)\u001b[0m\u001b[0;34m\u001b[0m\u001b[0;34m\u001b[0m\u001b[0m\n\u001b[0m\u001b[1;32m      2\u001b[0m \u001b[0mprint\u001b[0m\u001b[0;34m(\u001b[0m\u001b[0mdist_condiational\u001b[0m\u001b[0;34m.\u001b[0m\u001b[0msummary\u001b[0m\u001b[0;34m(\u001b[0m\u001b[0;34m)\u001b[0m\u001b[0;34m)\u001b[0m\u001b[0;34m\u001b[0m\u001b[0;34m\u001b[0m\u001b[0m\n",
      "\u001b[0;32m~/algos/probability/distributions/distributions_2.py\u001b[0m in \u001b[0;36mcondition_on\u001b[0;34m(self, on_names)\u001b[0m\n\u001b[1;32m    588\u001b[0m \u001b[0;34m\u001b[0m\u001b[0m\n\u001b[1;32m    589\u001b[0m         \u001b[0mby_indices\u001b[0m \u001b[0;34m=\u001b[0m \u001b[0;34m[\u001b[0m\u001b[0mi\u001b[0m \u001b[0;32mfor\u001b[0m \u001b[0mi\u001b[0m\u001b[0;34m,\u001b[0m \u001b[0mname\u001b[0m \u001b[0;32min\u001b[0m \u001b[0menumerate\u001b[0m\u001b[0;34m(\u001b[0m\u001b[0mself\u001b[0m\u001b[0;34m.\u001b[0m\u001b[0mrvs\u001b[0m\u001b[0;34m.\u001b[0m\u001b[0mnames\u001b[0m\u001b[0;34m)\u001b[0m \u001b[0;32mif\u001b[0m \u001b[0mname\u001b[0m \u001b[0;32min\u001b[0m \u001b[0mon_names\u001b[0m\u001b[0;34m]\u001b[0m\u001b[0;34m\u001b[0m\u001b[0;34m\u001b[0m\u001b[0m\n\u001b[0;32m--> 590\u001b[0;31m         \u001b[0;32mreturn\u001b[0m \u001b[0mself\u001b[0m\u001b[0;34m.\u001b[0m\u001b[0m__condition_on_by_indices\u001b[0m\u001b[0;34m(\u001b[0m\u001b[0mby_indices\u001b[0m\u001b[0;34m)\u001b[0m\u001b[0;34m\u001b[0m\u001b[0;34m\u001b[0m\u001b[0m\n\u001b[0m\u001b[1;32m    591\u001b[0m \u001b[0;34m\u001b[0m\u001b[0m\n\u001b[1;32m    592\u001b[0m     \u001b[0;32mdef\u001b[0m \u001b[0mproduct\u001b[0m\u001b[0;34m(\u001b[0m\u001b[0mself\u001b[0m\u001b[0;34m,\u001b[0m \u001b[0mright\u001b[0m\u001b[0;34m)\u001b[0m\u001b[0;34m:\u001b[0m\u001b[0;34m\u001b[0m\u001b[0;34m\u001b[0m\u001b[0m\n",
      "\u001b[0;32m~/algos/probability/distributions/distributions_2.py\u001b[0m in \u001b[0;36m__condition_on_by_indices\u001b[0;34m(self, on_names_indices)\u001b[0m\n\u001b[1;32m    565\u001b[0m             \u001b[0mby_index\u001b[0m \u001b[0;34m=\u001b[0m \u001b[0;34m{\u001b[0m\u001b[0mindex\u001b[0m\u001b[0;34m:\u001b[0m \u001b[0mkey_as_tuple\u001b[0m\u001b[0;34m[\u001b[0m\u001b[0mi\u001b[0m\u001b[0;34m]\u001b[0m \u001b[0;32mfor\u001b[0m \u001b[0mi\u001b[0m\u001b[0;34m,\u001b[0m \u001b[0mindex\u001b[0m \u001b[0;32min\u001b[0m \u001b[0menumerate\u001b[0m\u001b[0;34m(\u001b[0m\u001b[0mrvs_indices\u001b[0m\u001b[0;34m)\u001b[0m\u001b[0;34m}\u001b[0m\u001b[0;34m\u001b[0m\u001b[0;34m\u001b[0m\u001b[0m\n\u001b[1;32m    566\u001b[0m             \u001b[0mdistributions\u001b[0m\u001b[0;34m[\u001b[0m\u001b[0mkey\u001b[0m\u001b[0;34m]\u001b[0m \u001b[0;34m=\u001b[0m \u001b[0mself\u001b[0m\u001b[0;34m.\u001b[0m\u001b[0m__reduce_by_indices\u001b[0m\u001b[0;34m(\u001b[0m\u001b[0mby_index\u001b[0m\u001b[0;34m)\u001b[0m\u001b[0;34m\u001b[0m\u001b[0;34m\u001b[0m\u001b[0m\n\u001b[0;32m--> 567\u001b[0;31m         return DiscreteConditionalDistribution(\n\u001b[0m\u001b[1;32m    568\u001b[0m             \u001b[0mdistributions\u001b[0m\u001b[0;34m,\u001b[0m \u001b[0mself\u001b[0m\u001b[0;34m.\u001b[0m\u001b[0mrvs\u001b[0m\u001b[0;34m.\u001b[0m\u001b[0mnames\u001b[0m\u001b[0;34m[\u001b[0m\u001b[0mrvs_indices\u001b[0m\u001b[0;34m]\u001b[0m\u001b[0;34m\u001b[0m\u001b[0;34m\u001b[0m\u001b[0m\n\u001b[1;32m    569\u001b[0m         )\n",
      "\u001b[0;31mNameError\u001b[0m: name 'DiscreteConditionalDistribution' is not defined"
     ]
    }
   ],
   "source": [
    "dist_condiational = dist.condition_on([\"age_gt_60\", \"airBoneGap\", \"ar_c\", \"ar_u\", \"bone\"])\n",
    "print(dist_condiational.summary())"
   ]
  },
  {
   "cell_type": "code",
   "execution_count": 14,
   "metadata": {
    "ExecuteTime": {
     "end_time": "2020-09-06T20:44:29.948090Z",
     "start_time": "2020-09-06T20:44:29.925301Z"
    }
   },
   "outputs": [
    {
     "ename": "NameError",
     "evalue": "name 'dist_condiational' is not defined",
     "output_type": "error",
     "traceback": [
      "\u001b[0;31m---------------------------------------------------------------------------\u001b[0m",
      "\u001b[0;31mNameError\u001b[0m                                 Traceback (most recent call last)",
      "\u001b[0;32m<ipython-input-14-e29ee2334c2b>\u001b[0m in \u001b[0;36m<module>\u001b[0;34m\u001b[0m\n\u001b[0;32m----> 1\u001b[0;31m \u001b[0mit\u001b[0m \u001b[0;34m=\u001b[0m \u001b[0miter\u001b[0m\u001b[0;34m(\u001b[0m\u001b[0mdist_condiational\u001b[0m\u001b[0;34m)\u001b[0m\u001b[0;34m\u001b[0m\u001b[0;34m\u001b[0m\u001b[0m\n\u001b[0m\u001b[1;32m      2\u001b[0m \u001b[0;34m\u001b[0m\u001b[0m\n\u001b[1;32m      3\u001b[0m \u001b[0mgiven_1\u001b[0m \u001b[0;34m=\u001b[0m \u001b[0mnext\u001b[0m\u001b[0;34m(\u001b[0m\u001b[0mit\u001b[0m\u001b[0;34m)\u001b[0m\u001b[0;34m\u001b[0m\u001b[0;34m\u001b[0m\u001b[0m\n\u001b[1;32m      4\u001b[0m \u001b[0;32mfor\u001b[0m \u001b[0mi\u001b[0m \u001b[0;32min\u001b[0m \u001b[0mrange\u001b[0m\u001b[0;34m(\u001b[0m\u001b[0;36m3\u001b[0m\u001b[0;34m)\u001b[0m\u001b[0;34m:\u001b[0m\u001b[0;34m\u001b[0m\u001b[0;34m\u001b[0m\u001b[0m\n\u001b[1;32m      5\u001b[0m     \u001b[0mnext\u001b[0m\u001b[0;34m(\u001b[0m\u001b[0mit\u001b[0m\u001b[0;34m)\u001b[0m\u001b[0;34m\u001b[0m\u001b[0;34m\u001b[0m\u001b[0m\n",
      "\u001b[0;31mNameError\u001b[0m: name 'dist_condiational' is not defined"
     ]
    }
   ],
   "source": [
    "it = iter(dist_condiational)\n",
    "\n",
    "given_1 = next(it)\n",
    "for i in range(3):\n",
    "    next(it)\n",
    "given_2 = next(it)\n",
    "\n",
    "\n",
    "# Plot the first distribution\n",
    "dist1 = dist_condiational[given_1]\n",
    "plt.bar([ level for level in dist1], \n",
    "        [dist1.probability(s) for s in dist1])\n",
    "plt.grid()\n",
    "plt.title(f\"Given: \\n{tuple(dist_condiational.conditional_rvs.names)}:{given_1}\")\n",
    "plt.show()\n",
    "\n",
    "# Plot the second distribution\n",
    "plt.bar([ level for level in dist_condiational[given_2]],\n",
    "        [dist_condiational.probability(s, given_2) for s in dist_condiational[given_2]])\n",
    "plt.grid()\n",
    "plt.title(f\"Given: \\n{tuple(dist_condiational.conditional_rvs.names)}:{given_2}\")\n",
    "plt.show()"
   ]
  },
  {
   "cell_type": "code",
   "execution_count": null,
   "metadata": {},
   "outputs": [],
   "source": []
  }
 ],
 "metadata": {
  "kernelspec": {
   "display_name": "py3_7",
   "language": "python",
   "name": "py3_7"
  },
  "language_info": {
   "codemirror_mode": {
    "name": "ipython",
    "version": 3
   },
   "file_extension": ".py",
   "mimetype": "text/x-python",
   "name": "python",
   "nbconvert_exporter": "python",
   "pygments_lexer": "ipython3",
   "version": "3.7.3"
  }
 },
 "nbformat": 4,
 "nbformat_minor": 4
}
